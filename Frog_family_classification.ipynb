{
  "nbformat": 4,
  "nbformat_minor": 0,
  "metadata": {
    "colab": {
      "provenance": [],
      "authorship_tag": "ABX9TyPwFlgQFMSSiSlHVr6rCVlz",
      "include_colab_link": true
    },
    "kernelspec": {
      "name": "python3",
      "display_name": "Python 3"
    },
    "language_info": {
      "name": "python"
    },
    "accelerator": "GPU",
    "gpuClass": "standard"
  },
  "cells": [
    {
      "cell_type": "markdown",
      "metadata": {
        "id": "view-in-github",
        "colab_type": "text"
      },
      "source": [
        "<a href=\"https://colab.research.google.com/github/arkadijshmelev/Frog_family_classification/blob/master/Frog_family_classification.ipynb\" target=\"_parent\"><img src=\"https://colab.research.google.com/assets/colab-badge.svg\" alt=\"Open In Colab\"/></a>"
      ]
    },
    {
      "cell_type": "markdown",
      "source": [
        "## Библиотеки"
      ],
      "metadata": {
        "id": "XzfyoQ3ZI8YX"
      }
    },
    {
      "cell_type": "code",
      "execution_count": 33,
      "metadata": {
        "id": "OzANzGdyIoYM"
      },
      "outputs": [],
      "source": [
        "import pandas as pd\n",
        "from sklearn import ensemble\n",
        "from sklearn import metrics\n",
        "from sklearn.model_selection import train_test_split\n",
        "from sklearn import neighbors\n",
        "from sklearn import naive_bayes\n",
        "from sklearn import linear_model"
      ]
    },
    {
      "cell_type": "markdown",
      "source": [
        "## Данные"
      ],
      "metadata": {
        "id": "Nb8ng_TqJBSf"
      }
    },
    {
      "cell_type": "code",
      "source": [
        "from pydrive.auth import GoogleAuth\n",
        "from pydrive.drive import GoogleDrive\n",
        "from google.colab import auth\n",
        "from oauth2client.client import GoogleCredentials\n",
        "\n",
        "auth.authenticate_user()\n",
        "gauth = GoogleAuth()\n",
        "gauth.credentials = GoogleCredentials.get_application_default()\n",
        "drive = GoogleDrive(gauth)"
      ],
      "metadata": {
        "id": "UbcI4eoRI1Sn"
      },
      "execution_count": 34,
      "outputs": []
    },
    {
      "cell_type": "code",
      "source": [
        "# Загрузим данные с google drive.\n",
        "data = drive.CreateFile({'id': '1VXQWWFJt5lJo5ALcSPlvQSUZJnM03qQk'})\n",
        "data.GetContentFile('Frogs_MFCCs.csv')"
      ],
      "metadata": {
        "id": "nbz99I2DI6h_"
      },
      "execution_count": 35,
      "outputs": []
    },
    {
      "cell_type": "code",
      "source": [
        "# Загрузим данные.\n",
        "df = pd.read_csv('Frogs_MFCCs.csv')\n",
        "# Выведем для просмотра.\n",
        "display(df.head())\n",
        "# Выведем информацию.\n",
        "print(df.info())"
      ],
      "metadata": {
        "colab": {
          "base_uri": "https://localhost:8080/",
          "height": 907
        },
        "id": "0bKKAugwLVww",
        "outputId": "eed87430-dc37-4f1c-b47b-2df901b91c47"
      },
      "execution_count": 36,
      "outputs": [
        {
          "output_type": "display_data",
          "data": {
            "text/plain": [
              "   MFCCs_ 1  MFCCs_ 2  MFCCs_ 3  MFCCs_ 4  MFCCs_ 5  MFCCs_ 6  MFCCs_ 7  \\\n",
              "0       1.0  0.152936 -0.105586  0.200722  0.317201  0.260764  0.100945   \n",
              "1       1.0  0.171534 -0.098975  0.268425  0.338672  0.268353  0.060835   \n",
              "2       1.0  0.152317 -0.082973  0.287128  0.276014  0.189867  0.008714   \n",
              "3       1.0  0.224392  0.118985  0.329432  0.372088  0.361005  0.015501   \n",
              "4       1.0  0.087817 -0.068345  0.306967  0.330923  0.249144  0.006884   \n",
              "\n",
              "   MFCCs_ 8  MFCCs_ 9  MFCCs_10  ...  MFCCs_17  MFCCs_18  MFCCs_19  MFCCs_20  \\\n",
              "0 -0.150063 -0.171128  0.124676  ... -0.108351 -0.077623 -0.009568  0.057684   \n",
              "1 -0.222475 -0.207693  0.170883  ... -0.090974 -0.056510 -0.035303  0.020140   \n",
              "2 -0.242234 -0.219153  0.232538  ... -0.050691 -0.023590 -0.066722 -0.025083   \n",
              "3 -0.194347 -0.098181  0.270375  ... -0.136009 -0.177037 -0.130498 -0.054766   \n",
              "4 -0.265423 -0.172700  0.266434  ... -0.048885 -0.053074 -0.088550 -0.031346   \n",
              "\n",
              "   MFCCs_21  MFCCs_22           Family      Genus         Species  RecordID  \n",
              "0  0.118680  0.014038  Leptodactylidae  Adenomera  AdenomeraAndre         1  \n",
              "1  0.082263  0.029056  Leptodactylidae  Adenomera  AdenomeraAndre         1  \n",
              "2  0.099108  0.077162  Leptodactylidae  Adenomera  AdenomeraAndre         1  \n",
              "3 -0.018691  0.023954  Leptodactylidae  Adenomera  AdenomeraAndre         1  \n",
              "4  0.108610  0.079244  Leptodactylidae  Adenomera  AdenomeraAndre         1  \n",
              "\n",
              "[5 rows x 26 columns]"
            ],
            "text/html": [
              "\n",
              "  <div id=\"df-3399bec5-9a3b-4ab1-91f6-5734d7a86d2c\">\n",
              "    <div class=\"colab-df-container\">\n",
              "      <div>\n",
              "<style scoped>\n",
              "    .dataframe tbody tr th:only-of-type {\n",
              "        vertical-align: middle;\n",
              "    }\n",
              "\n",
              "    .dataframe tbody tr th {\n",
              "        vertical-align: top;\n",
              "    }\n",
              "\n",
              "    .dataframe thead th {\n",
              "        text-align: right;\n",
              "    }\n",
              "</style>\n",
              "<table border=\"1\" class=\"dataframe\">\n",
              "  <thead>\n",
              "    <tr style=\"text-align: right;\">\n",
              "      <th></th>\n",
              "      <th>MFCCs_ 1</th>\n",
              "      <th>MFCCs_ 2</th>\n",
              "      <th>MFCCs_ 3</th>\n",
              "      <th>MFCCs_ 4</th>\n",
              "      <th>MFCCs_ 5</th>\n",
              "      <th>MFCCs_ 6</th>\n",
              "      <th>MFCCs_ 7</th>\n",
              "      <th>MFCCs_ 8</th>\n",
              "      <th>MFCCs_ 9</th>\n",
              "      <th>MFCCs_10</th>\n",
              "      <th>...</th>\n",
              "      <th>MFCCs_17</th>\n",
              "      <th>MFCCs_18</th>\n",
              "      <th>MFCCs_19</th>\n",
              "      <th>MFCCs_20</th>\n",
              "      <th>MFCCs_21</th>\n",
              "      <th>MFCCs_22</th>\n",
              "      <th>Family</th>\n",
              "      <th>Genus</th>\n",
              "      <th>Species</th>\n",
              "      <th>RecordID</th>\n",
              "    </tr>\n",
              "  </thead>\n",
              "  <tbody>\n",
              "    <tr>\n",
              "      <th>0</th>\n",
              "      <td>1.0</td>\n",
              "      <td>0.152936</td>\n",
              "      <td>-0.105586</td>\n",
              "      <td>0.200722</td>\n",
              "      <td>0.317201</td>\n",
              "      <td>0.260764</td>\n",
              "      <td>0.100945</td>\n",
              "      <td>-0.150063</td>\n",
              "      <td>-0.171128</td>\n",
              "      <td>0.124676</td>\n",
              "      <td>...</td>\n",
              "      <td>-0.108351</td>\n",
              "      <td>-0.077623</td>\n",
              "      <td>-0.009568</td>\n",
              "      <td>0.057684</td>\n",
              "      <td>0.118680</td>\n",
              "      <td>0.014038</td>\n",
              "      <td>Leptodactylidae</td>\n",
              "      <td>Adenomera</td>\n",
              "      <td>AdenomeraAndre</td>\n",
              "      <td>1</td>\n",
              "    </tr>\n",
              "    <tr>\n",
              "      <th>1</th>\n",
              "      <td>1.0</td>\n",
              "      <td>0.171534</td>\n",
              "      <td>-0.098975</td>\n",
              "      <td>0.268425</td>\n",
              "      <td>0.338672</td>\n",
              "      <td>0.268353</td>\n",
              "      <td>0.060835</td>\n",
              "      <td>-0.222475</td>\n",
              "      <td>-0.207693</td>\n",
              "      <td>0.170883</td>\n",
              "      <td>...</td>\n",
              "      <td>-0.090974</td>\n",
              "      <td>-0.056510</td>\n",
              "      <td>-0.035303</td>\n",
              "      <td>0.020140</td>\n",
              "      <td>0.082263</td>\n",
              "      <td>0.029056</td>\n",
              "      <td>Leptodactylidae</td>\n",
              "      <td>Adenomera</td>\n",
              "      <td>AdenomeraAndre</td>\n",
              "      <td>1</td>\n",
              "    </tr>\n",
              "    <tr>\n",
              "      <th>2</th>\n",
              "      <td>1.0</td>\n",
              "      <td>0.152317</td>\n",
              "      <td>-0.082973</td>\n",
              "      <td>0.287128</td>\n",
              "      <td>0.276014</td>\n",
              "      <td>0.189867</td>\n",
              "      <td>0.008714</td>\n",
              "      <td>-0.242234</td>\n",
              "      <td>-0.219153</td>\n",
              "      <td>0.232538</td>\n",
              "      <td>...</td>\n",
              "      <td>-0.050691</td>\n",
              "      <td>-0.023590</td>\n",
              "      <td>-0.066722</td>\n",
              "      <td>-0.025083</td>\n",
              "      <td>0.099108</td>\n",
              "      <td>0.077162</td>\n",
              "      <td>Leptodactylidae</td>\n",
              "      <td>Adenomera</td>\n",
              "      <td>AdenomeraAndre</td>\n",
              "      <td>1</td>\n",
              "    </tr>\n",
              "    <tr>\n",
              "      <th>3</th>\n",
              "      <td>1.0</td>\n",
              "      <td>0.224392</td>\n",
              "      <td>0.118985</td>\n",
              "      <td>0.329432</td>\n",
              "      <td>0.372088</td>\n",
              "      <td>0.361005</td>\n",
              "      <td>0.015501</td>\n",
              "      <td>-0.194347</td>\n",
              "      <td>-0.098181</td>\n",
              "      <td>0.270375</td>\n",
              "      <td>...</td>\n",
              "      <td>-0.136009</td>\n",
              "      <td>-0.177037</td>\n",
              "      <td>-0.130498</td>\n",
              "      <td>-0.054766</td>\n",
              "      <td>-0.018691</td>\n",
              "      <td>0.023954</td>\n",
              "      <td>Leptodactylidae</td>\n",
              "      <td>Adenomera</td>\n",
              "      <td>AdenomeraAndre</td>\n",
              "      <td>1</td>\n",
              "    </tr>\n",
              "    <tr>\n",
              "      <th>4</th>\n",
              "      <td>1.0</td>\n",
              "      <td>0.087817</td>\n",
              "      <td>-0.068345</td>\n",
              "      <td>0.306967</td>\n",
              "      <td>0.330923</td>\n",
              "      <td>0.249144</td>\n",
              "      <td>0.006884</td>\n",
              "      <td>-0.265423</td>\n",
              "      <td>-0.172700</td>\n",
              "      <td>0.266434</td>\n",
              "      <td>...</td>\n",
              "      <td>-0.048885</td>\n",
              "      <td>-0.053074</td>\n",
              "      <td>-0.088550</td>\n",
              "      <td>-0.031346</td>\n",
              "      <td>0.108610</td>\n",
              "      <td>0.079244</td>\n",
              "      <td>Leptodactylidae</td>\n",
              "      <td>Adenomera</td>\n",
              "      <td>AdenomeraAndre</td>\n",
              "      <td>1</td>\n",
              "    </tr>\n",
              "  </tbody>\n",
              "</table>\n",
              "<p>5 rows × 26 columns</p>\n",
              "</div>\n",
              "      <button class=\"colab-df-convert\" onclick=\"convertToInteractive('df-3399bec5-9a3b-4ab1-91f6-5734d7a86d2c')\"\n",
              "              title=\"Convert this dataframe to an interactive table.\"\n",
              "              style=\"display:none;\">\n",
              "        \n",
              "  <svg xmlns=\"http://www.w3.org/2000/svg\" height=\"24px\"viewBox=\"0 0 24 24\"\n",
              "       width=\"24px\">\n",
              "    <path d=\"M0 0h24v24H0V0z\" fill=\"none\"/>\n",
              "    <path d=\"M18.56 5.44l.94 2.06.94-2.06 2.06-.94-2.06-.94-.94-2.06-.94 2.06-2.06.94zm-11 1L8.5 8.5l.94-2.06 2.06-.94-2.06-.94L8.5 2.5l-.94 2.06-2.06.94zm10 10l.94 2.06.94-2.06 2.06-.94-2.06-.94-.94-2.06-.94 2.06-2.06.94z\"/><path d=\"M17.41 7.96l-1.37-1.37c-.4-.4-.92-.59-1.43-.59-.52 0-1.04.2-1.43.59L10.3 9.45l-7.72 7.72c-.78.78-.78 2.05 0 2.83L4 21.41c.39.39.9.59 1.41.59.51 0 1.02-.2 1.41-.59l7.78-7.78 2.81-2.81c.8-.78.8-2.07 0-2.86zM5.41 20L4 18.59l7.72-7.72 1.47 1.35L5.41 20z\"/>\n",
              "  </svg>\n",
              "      </button>\n",
              "      \n",
              "  <style>\n",
              "    .colab-df-container {\n",
              "      display:flex;\n",
              "      flex-wrap:wrap;\n",
              "      gap: 12px;\n",
              "    }\n",
              "\n",
              "    .colab-df-convert {\n",
              "      background-color: #E8F0FE;\n",
              "      border: none;\n",
              "      border-radius: 50%;\n",
              "      cursor: pointer;\n",
              "      display: none;\n",
              "      fill: #1967D2;\n",
              "      height: 32px;\n",
              "      padding: 0 0 0 0;\n",
              "      width: 32px;\n",
              "    }\n",
              "\n",
              "    .colab-df-convert:hover {\n",
              "      background-color: #E2EBFA;\n",
              "      box-shadow: 0px 1px 2px rgba(60, 64, 67, 0.3), 0px 1px 3px 1px rgba(60, 64, 67, 0.15);\n",
              "      fill: #174EA6;\n",
              "    }\n",
              "\n",
              "    [theme=dark] .colab-df-convert {\n",
              "      background-color: #3B4455;\n",
              "      fill: #D2E3FC;\n",
              "    }\n",
              "\n",
              "    [theme=dark] .colab-df-convert:hover {\n",
              "      background-color: #434B5C;\n",
              "      box-shadow: 0px 1px 3px 1px rgba(0, 0, 0, 0.15);\n",
              "      filter: drop-shadow(0px 1px 2px rgba(0, 0, 0, 0.3));\n",
              "      fill: #FFFFFF;\n",
              "    }\n",
              "  </style>\n",
              "\n",
              "      <script>\n",
              "        const buttonEl =\n",
              "          document.querySelector('#df-3399bec5-9a3b-4ab1-91f6-5734d7a86d2c button.colab-df-convert');\n",
              "        buttonEl.style.display =\n",
              "          google.colab.kernel.accessAllowed ? 'block' : 'none';\n",
              "\n",
              "        async function convertToInteractive(key) {\n",
              "          const element = document.querySelector('#df-3399bec5-9a3b-4ab1-91f6-5734d7a86d2c');\n",
              "          const dataTable =\n",
              "            await google.colab.kernel.invokeFunction('convertToInteractive',\n",
              "                                                     [key], {});\n",
              "          if (!dataTable) return;\n",
              "\n",
              "          const docLinkHtml = 'Like what you see? Visit the ' +\n",
              "            '<a target=\"_blank\" href=https://colab.research.google.com/notebooks/data_table.ipynb>data table notebook</a>'\n",
              "            + ' to learn more about interactive tables.';\n",
              "          element.innerHTML = '';\n",
              "          dataTable['output_type'] = 'display_data';\n",
              "          await google.colab.output.renderOutput(dataTable, element);\n",
              "          const docLink = document.createElement('div');\n",
              "          docLink.innerHTML = docLinkHtml;\n",
              "          element.appendChild(docLink);\n",
              "        }\n",
              "      </script>\n",
              "    </div>\n",
              "  </div>\n",
              "  "
            ]
          },
          "metadata": {}
        },
        {
          "output_type": "stream",
          "name": "stdout",
          "text": [
            "<class 'pandas.core.frame.DataFrame'>\n",
            "RangeIndex: 7195 entries, 0 to 7194\n",
            "Data columns (total 26 columns):\n",
            " #   Column    Non-Null Count  Dtype  \n",
            "---  ------    --------------  -----  \n",
            " 0   MFCCs_ 1  7195 non-null   float64\n",
            " 1   MFCCs_ 2  7195 non-null   float64\n",
            " 2   MFCCs_ 3  7195 non-null   float64\n",
            " 3   MFCCs_ 4  7195 non-null   float64\n",
            " 4   MFCCs_ 5  7195 non-null   float64\n",
            " 5   MFCCs_ 6  7195 non-null   float64\n",
            " 6   MFCCs_ 7  7195 non-null   float64\n",
            " 7   MFCCs_ 8  7195 non-null   float64\n",
            " 8   MFCCs_ 9  7195 non-null   float64\n",
            " 9   MFCCs_10  7195 non-null   float64\n",
            " 10  MFCCs_11  7195 non-null   float64\n",
            " 11  MFCCs_12  7195 non-null   float64\n",
            " 12  MFCCs_13  7195 non-null   float64\n",
            " 13  MFCCs_14  7195 non-null   float64\n",
            " 14  MFCCs_15  7195 non-null   float64\n",
            " 15  MFCCs_16  7195 non-null   float64\n",
            " 16  MFCCs_17  7195 non-null   float64\n",
            " 17  MFCCs_18  7195 non-null   float64\n",
            " 18  MFCCs_19  7195 non-null   float64\n",
            " 19  MFCCs_20  7195 non-null   float64\n",
            " 20  MFCCs_21  7195 non-null   float64\n",
            " 21  MFCCs_22  7195 non-null   float64\n",
            " 22  Family    7195 non-null   object \n",
            " 23  Genus     7195 non-null   object \n",
            " 24  Species   7195 non-null   object \n",
            " 25  RecordID  7195 non-null   int64  \n",
            "dtypes: float64(22), int64(1), object(3)\n",
            "memory usage: 1.4+ MB\n",
            "None\n"
          ]
        }
      ]
    },
    {
      "cell_type": "markdown",
      "source": [
        "Будем решать задачу бинарной классификации по выявлению лягушек, которые относятся к семейству 'Dendrobatidae' (признак 'Family'). Семейство 'Dendrobatidae' будет классом 1, все остальные семейства — классом 0."
      ],
      "metadata": {
        "id": "0bSXrPRVNRFw"
      }
    },
    {
      "cell_type": "code",
      "source": [
        "df['Family'] = df['Family'].apply(lambda x: 1 if x == 'Dendrobatidae' else 0)"
      ],
      "metadata": {
        "id": "c_lfsFKANPaR"
      },
      "execution_count": 37,
      "outputs": []
    },
    {
      "cell_type": "code",
      "source": [
        "# Создадим матрицу наблюдения необходимых нам признаков.\n",
        "X = df.drop(['Family', 'Genus', 'Species', 'RecordID'], axis=1)\n",
        "# Создадим вектор правильных ответов.\n",
        "y = df['Family']"
      ],
      "metadata": {
        "id": "qCAz26gdMkdO"
      },
      "execution_count": 38,
      "outputs": []
    },
    {
      "cell_type": "code",
      "source": [
        "# Разобьем данные не тренировочную и тестовую выборки.\n",
        "X_train, X_test, y_train, y_test = train_test_split(X, y, test_size=0.2, random_state=31)"
      ],
      "metadata": {
        "id": "7ZZtgxszPW_v"
      },
      "execution_count": 39,
      "outputs": []
    },
    {
      "cell_type": "markdown",
      "source": [
        "## Случайный лес"
      ],
      "metadata": {
        "id": "mWbRC1SiRbwJ"
      }
    },
    {
      "cell_type": "code",
      "source": [
        "# Создадим модель случайного леса.\n",
        "rf_model = ensemble.RandomForestClassifier(n_estimators=10, random_state=42)\n",
        "# Обучим модель.\n",
        "rf_model.fit(X_train, y_train)\n",
        "# Делаем предсказание.\n",
        "y_pred_test = rf_model.predict(X_test)\n",
        "# Выводим метрику.\n",
        "print('f1_score : {:.2f}'.format(metrics.f1_score(y_test, y_pred_test)))"
      ],
      "metadata": {
        "colab": {
          "base_uri": "https://localhost:8080/"
        },
        "id": "-Z3DVo-POyyX",
        "outputId": "36959554-7e35-4ab1-b0d7-6629da17a413"
      },
      "execution_count": 40,
      "outputs": [
        {
          "output_type": "stream",
          "name": "stdout",
          "text": [
            "f1_score : 0.97\n"
          ]
        }
      ]
    },
    {
      "cell_type": "markdown",
      "source": [
        "## Стекинг"
      ],
      "metadata": {
        "id": "sKZcHN9yRfUZ"
      }
    },
    {
      "cell_type": "code",
      "source": [
        "# Составим список базовых моделей.\n",
        "estimators = [('rf', ensemble.RandomForestClassifier(n_estimators=10, random_state=31)),\n",
        "              ('knn', neighbors.KNeighborsClassifier(n_neighbors= 11)),\n",
        "              ('nb', naive_bayes.GaussianNB() )               \n",
        "]\n",
        "# Иницианализируем модель StackingClassifier().\n",
        "metamodel = ensemble.StackingClassifier(\n",
        "    estimators=estimators, final_estimator=linear_model.LogisticRegression()\n",
        ")\n",
        "# Обучим модель.\n",
        "metamodel.fit(X_train, y_train)\n",
        "# Делаем предсказание.\n",
        "y_pred_test = metamodel.predict(X_test)\n",
        "# Выводим метрику.\n",
        "print('f1_score : {:.2f}'.format(metrics.f1_score(y_test, y_pred_test)))"
      ],
      "metadata": {
        "colab": {
          "base_uri": "https://localhost:8080/"
        },
        "id": "URpjQuqBRWnH",
        "outputId": "66bcef08-e1b2-44d7-bf5e-996c4a9b5419"
      },
      "execution_count": 41,
      "outputs": [
        {
          "output_type": "stream",
          "name": "stdout",
          "text": [
            "f1_score : 0.99\n"
          ]
        }
      ]
    }
  ]
}